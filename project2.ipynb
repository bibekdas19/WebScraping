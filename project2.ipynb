{
 "cells": [
  {
   "cell_type": "markdown",
   "metadata": {},
   "source": [
    "## Web Scraping: 2019 list of Earthquakes in Nepal\n"
   ]
  },
  {
   "cell_type": "code",
   "execution_count": 1,
   "metadata": {},
   "outputs": [],
   "source": [
    "import requests #https://requests.readthedocs.io/en/master/\n",
    "from pyquery import PyQuery as pq #for XPath and Css Selectors: https://pythonhosted.org/pyquery/"
   ]
  },
  {
   "cell_type": "markdown",
   "metadata": {},
   "source": [
    "Importing the packages"
   ]
  },
  {
   "cell_type": "code",
   "execution_count": 2,
   "metadata": {},
   "outputs": [],
   "source": [
    "url='http://seismonepal.gov.np/earthquakes/2020' #http://seismonepal.gov.np/earthquakes/2019"
   ]
  },
  {
   "cell_type": "code",
   "execution_count": 3,
   "metadata": {},
   "outputs": [],
   "source": [
    "def read_url(url):\n",
    "    '''using pyquery'''\n",
    "    pageSource = requests.get(url).text  #receiving 'view source'\n",
    "    #return pq(pageSource)\n",
    "    return pageSource\n",
    "    \n"
   ]
  },
  {
   "cell_type": "code",
   "execution_count": 4,
   "metadata": {},
   "outputs": [],
   "source": [
    "page = read_url(url)"
   ]
  },
  {
   "cell_type": "code",
   "execution_count": 5,
   "metadata": {},
   "outputs": [
    {
     "name": "stdout",
     "output_type": "stream",
     "text": [
      "National Earthquake Monitoring & Research Center\n"
     ]
    }
   ],
   "source": [
    "title=pq(page).find('title').text() #check here if page is an object of pyquery or not\n",
    "print(title)"
   ]
  },
  {
   "cell_type": "code",
   "execution_count": 6,
   "metadata": {},
   "outputs": [
    {
     "name": "stdout",
     "output_type": "stream",
     "text": [
      "                      <th scope=\"col\">Date</th>\n",
      "                        <th scope=\"col\">Time</th>\n",
      "                        <th scope=\"col\">Latitude</th>\n",
      "                        <th scope=\"col\">Longitude</th>\n",
      "                        <th scope=\"col\">Magnitude(ML)</th>\n",
      "                        <th scope=\"col\">Remarks</th>\n",
      "                        <th scope=\"col\">Epicenter</th>\n",
      "                        <th scope=\"col\">Form</th>\n",
      "                    </tr>\n",
      "                    \n"
     ]
    }
   ],
   "source": [
    "data = pq(page).find('table.table-striped thead').html() #confirming the content we have choosen!\n",
    "print(data[28:505])\n"
   ]
  },
  {
   "cell_type": "code",
   "execution_count": 7,
   "metadata": {},
   "outputs": [
    {
     "name": "stdout",
     "output_type": "stream",
     "text": [
      "Date\n",
      "Time\n",
      "Latitude\n",
      "Longitude\n",
      "Magnitude(ML)\n",
      "Remarks\n",
      "Epicenter\n",
      "Form\n"
     ]
    }
   ],
   "source": [
    "headText = pq(page).find('table.table-striped thead').text() #load <thead> texts from table\n",
    "print(headText)"
   ]
  },
  {
   "cell_type": "code",
   "execution_count": 8,
   "metadata": {},
   "outputs": [
    {
     "name": "stdout",
     "output_type": "stream",
     "text": [
      "\">\n",
      "                                    <small>B.S:</small>2077-9-15<br/>\n",
      "                                    <small>A.D:</small>2020-12-29</td>\n",
      "                                <td>\n",
      "                                    <small>Local:</small>01:49<br/>\n",
      "                                    <small>UTC:</small>20:04</td>\n",
      "                                <td>27.66</td>\n",
      "                                <td>86.34</td>\n",
      "                                <td>4.6</td>\n",
      "                                <td>NERMC</td>\n"
     ]
    }
   ],
   "source": [
    "body = pq(page).find('table.table-striped tbody').html() #load <tbody> HTML from table\n",
    "print(body[200:700])"
   ]
  },
  {
   "cell_type": "code",
   "execution_count": 9,
   "metadata": {},
   "outputs": [
    {
     "name": "stdout",
     "output_type": "stream",
     "text": [
      "B.S:2077-9-15\n",
      "A.D:2020-12-29\n",
      "Local:01:49\n",
      "UTC:20:04\n",
      "27.66\n",
      "86.34\n",
      "4.6\n",
      "NERMC\n",
      "Ramechhap\n",
      "Did You feel it ?\n"
     ]
    }
   ],
   "source": [
    "firstRow = pq(page).find('table.table-striped tbody tr:first').text() \n",
    "print(firstRow)"
   ]
  },
  {
   "cell_type": "code",
   "execution_count": 10,
   "metadata": {},
   "outputs": [
    {
     "name": "stdout",
     "output_type": "stream",
     "text": [
      "<tr>\n",
      "                                <td scope=\"row\">\n",
      "                                     2077-9-15<br/>\n",
      "                                     2020-12-29</td>\n",
      "                                <td>\n",
      "                                     01:49<br/>\n",
      "                                     20:04</td>\n",
      "                                <td>27.66</td>\n",
      "                                <td>86.34</td>\n",
      "                                <td>4.6</td>\n",
      "                                <td>NERMC</td>\n",
      "                                <td><a href=\"http://seismonepal.gov.np/earthquake-epicenter-google-map/1039\" title=\"Click to see Google Map point of this\" style=\"text-decoration: underline;\">Ramechhap</a></td>\n",
      "                                <td><a href=\"http://seismonepal.gov.np/did-you-feel-it-\" class=\"btn btn-primary\">Did You feel it ?</a></td>\n",
      "                            </tr>\n"
     ]
    }
   ],
   "source": [
    "firstRowNewAgain = pq(page).find('table.table-striped tbody tr:first').remove('small')\n",
    "#print(firstRowNewAgain)\n",
    "\n",
    "print(str(firstRowNewAgain).strip()) "
   ]
  },
  {
   "cell_type": "markdown",
   "metadata": {},
   "source": [
    "First row sampling"
   ]
  },
  {
   "cell_type": "code",
   "execution_count": 11,
   "metadata": {},
   "outputs": [
    {
     "name": "stdout",
     "output_type": "stream",
     "text": [
      "2077-9-15\n",
      "2020-12-29\n",
      "01:49\n",
      "20:04\n",
      "27.66\n",
      "86.34\n",
      "4.6\n",
      "NERMC\n",
      "Ramechhap\n",
      "Did You feel it ?\n",
      "--------------------------------------------------------------------------------\n",
      "['2077-9-15', '2020-12-29', '01:49', '20:04', '27.66', '86.34', '4.6', 'NERMC', 'Ramechhap', 'Did You feel it ?']\n"
     ]
    }
   ],
   "source": [
    "newRowAgain = pq(firstRowNewAgain).text()\n",
    "print(newRowAgain)\n",
    "print('----'*20)\n",
    "print(newRowAgain.split(\"\\n\"))"
   ]
  },
  {
   "cell_type": "code",
   "execution_count": 12,
   "metadata": {},
   "outputs": [
    {
     "name": "stdout",
     "output_type": "stream",
     "text": [
      "25\n"
     ]
    }
   ],
   "source": [
    "#cleaned content from Seismonepal!\n",
    "\n",
    "allRowMaterial = pq(page).find('table.table-striped tbody').remove('small')\n",
    "print(len(pq(allRowMaterial).find('tr')))\n"
   ]
  },
  {
   "cell_type": "markdown",
   "metadata": {},
   "source": [
    "# loop through the data stored in table"
   ]
  },
  {
   "cell_type": "code",
   "execution_count": 13,
   "metadata": {},
   "outputs": [
    {
     "name": "stdout",
     "output_type": "stream",
     "text": [
      "[['Date', 'Time', 'Latitude', 'Longitude', 'Magnitude', 'Epicenter'], ['2077-9-15', '01:49', '27.66', '86.34', '4.6', 'Ramechhap'], ['2077-8-23', '19:08', '27.77', '87.86', '4.2', 'Taplejung'], ['2077-8-17', '13:42', '27.75', '85.87', '4.2', 'Sindhupalchok'], ['2077-7-24', '03:29', '27.73', '87.87', '4.9', 'Taplejung'], ['2077-7-13', '00:19', '29.58', '80.81', '4.2', 'Bajhang'], ['2077-7-8', '16:17', '27.62', '86.24', '4.0', 'Dolakha'], ['2077-5-31', '05:19', '27.77', '85.88', '6.0', 'Sindhupalchowk'], ['2077-5-26', '09:30', '26.76', '88.21', '5.0', 'Nepal India  Border'], ['2077-5-24', '15:48', '27.92', '84.94', '4.0', 'Dhading'], ['2077-5-19', '07:20', '27.58', '87.19', '4.0', 'Sankhuwasabha'], ['2077-5-9', '21:09', '29.59', '80.89', '4.7', 'Bajhang'], ['2077-4-31', '16:07', '27.8', '87.62', '4.2', 'Sankhuwasabha'], ['2077-3-2', '09:53', '27.88', '86.20', '4.1', 'Dolakha'], ['2077-2-17', '21:36', '27.85', '84.93', '4.8', 'Dhading'], ['2077-2-13', '16:00', '29.73', '82.01', '4.2', 'Humla/Mugu'], ['2077-1-30', '23:53', '27.65', '86.15', '5.3', 'Dolakha'], ['2077-1-4', '00:55', '27.55', '86.59', '4.7', 'Solukhumbu'], ['2076-12-20', '20:55', '29.58', '80.96', '4.0', 'Bajhang'], ['2076-12-12', '18:36', '28.01', '84.97', '4.0', 'Dhading'], ['2076-12-2', '20:45', '28.34', '83.80', '5.0', 'Kaski'], ['2076-11-21', '19:17', '27.79', '86.18', '4.3', 'Dolakha'], ['2076-11-7', '21:13', '29.71', '81.69', '4.3', 'Bajura/Humla'], ['2076-10-14', '07:59', '29.61', '81.71', '4.2', 'Bajura'], ['2076-9-28', '02:07', '29.59', '81.73', '4.2', 'Bajura'], ['2076-9-27', '20:19', '29.58', '81.71', '4.5', 'Bajura']]\n"
     ]
    }
   ],
   "source": [
    "finalList=list([['Date','Time','Latitude','Longitude','Magnitude','Epicenter']])\n",
    "\n",
    "\n",
    "for row in pq(allRowMaterial).find('tr').items(): #each and every selected element traverse/travel!\n",
    "    col=row.find('td')\n",
    "    \n",
    "    \n",
    "    edate = col[0].text.strip()\n",
    "    etime = col[1].text.strip() \n",
    "    elatitude= col[2].text.strip() \n",
    "    elongitude= col[3].text.strip() \n",
    "    emagnitude= col[4].text.strip() \n",
    "    #epicentre= col[5].text.strip()\n",
    "    epicentre = col[6].find('a').text.strip()\n",
    "\n",
    "    if edate:\n",
    "        finalList.append([edate, etime, elatitude, elongitude, emagnitude, epicentre])\n",
    "        \n",
    "print(finalList)\n",
    "        \n",
    "    "
   ]
  },
  {
   "cell_type": "code",
   "execution_count": 14,
   "metadata": {},
   "outputs": [
    {
     "name": "stdout",
     "output_type": "stream",
     "text": [
      "Total Records found:  26\n",
      "['Date', 'Time', 'Latitude', 'Longitude', 'Magnitude', 'Epicenter']\n",
      "['2076-9-27', '20:19', '29.58', '81.71', '4.5', 'Bajura']\n"
     ]
    }
   ],
   "source": [
    "print(\"Total Records found: \",len(finalList))\n",
    "print(finalList[0])\n",
    "print(finalList[-1])"
   ]
  },
  {
   "cell_type": "code",
   "execution_count": 15,
   "metadata": {},
   "outputs": [],
   "source": [
    "import pandas as pd\n"
   ]
  },
  {
   "cell_type": "markdown",
   "metadata": {},
   "source": [
    "Converting the "
   ]
  },
  {
   "cell_type": "code",
   "execution_count": 16,
   "metadata": {},
   "outputs": [],
   "source": [
    "df=pd.DataFrame(finalList)"
   ]
  },
  {
   "cell_type": "code",
   "execution_count": 17,
   "metadata": {},
   "outputs": [],
   "source": [
    "df.to_csv('Earthquake2020.csv',header=False,index=False)"
   ]
  },
  {
   "cell_type": "code",
   "execution_count": null,
   "metadata": {},
   "outputs": [],
   "source": []
  },
  {
   "cell_type": "code",
   "execution_count": null,
   "metadata": {},
   "outputs": [],
   "source": []
  },
  {
   "cell_type": "code",
   "execution_count": null,
   "metadata": {},
   "outputs": [],
   "source": []
  }
 ],
 "metadata": {
  "kernelspec": {
   "display_name": "Python 3",
   "language": "python",
   "name": "python3"
  },
  "language_info": {
   "codemirror_mode": {
    "name": "ipython",
    "version": 3
   },
   "file_extension": ".py",
   "mimetype": "text/x-python",
   "name": "python",
   "nbconvert_exporter": "python",
   "pygments_lexer": "ipython3",
   "version": "3.8.5"
  }
 },
 "nbformat": 4,
 "nbformat_minor": 4
}
